{
  "cells": [
    {
      "cell_type": "code",
      "execution_count": null,
      "metadata": {
        "colab": {
          "background_save": true
        },
        "id": "wBEVTmzFGjjn"
      },
      "outputs": [],
      "source": [
        "import tensorflow as tf\n",
        "import json"
      ]
    },
    {
      "cell_type": "code",
      "execution_count": null,
      "metadata": {
        "id": "vj_m6Qi1HJfY"
      },
      "outputs": [],
      "source": [
        "import numpy as np"
      ]
    },
    {
      "cell_type": "code",
      "execution_count": null,
      "metadata": {
        "colab": {
          "base_uri": "https://localhost:8080/"
        },
        "id": "qOelxxUNbeLi",
        "outputId": "90f19d00-b1c8-43b2-d9ce-7aeba3da177b"
      },
      "outputs": [
        {
          "name": "stdout",
          "output_type": "stream",
          "text": [
            "Requirement already satisfied: pydot in /usr/local/lib/python3.10/dist-packages (1.4.2)\n",
            "Requirement already satisfied: graphviz in /usr/local/lib/python3.10/dist-packages (0.20.1)\n",
            "Requirement already satisfied: pyparsing>=2.1.4 in /usr/local/lib/python3.10/dist-packages (from pydot) (3.1.1)\n"
          ]
        }
      ],
      "source": [
        "pip install pydot graphviz"
      ]
    },
    {
      "cell_type": "code",
      "execution_count": null,
      "metadata": {
        "id": "YHiQzJSdbvWm"
      },
      "outputs": [],
      "source": [
        "from tensorflow.keras.utils import plot_model"
      ]
    },
    {
      "cell_type": "code",
      "execution_count": null,
      "metadata": {
        "id": "H-i7JlkGxkij"
      },
      "outputs": [],
      "source": [
        "from tensorflow.keras.optimizers import SGD"
      ]
    },
    {
      "cell_type": "markdown",
      "metadata": {
        "id": "NXYfvkNOHKTc"
      },
      "source": [
        "DATASET MNIST"
      ]
    },
    {
      "cell_type": "code",
      "execution_count": null,
      "metadata": {
        "colab": {
          "background_save": true
        },
        "id": "HRIzBcC_Hn0J"
      },
      "outputs": [],
      "source": [
        "mnist=tf.keras.datasets.mnist\n",
        "(X_train, Y_train) , (X_test, Y_test)=mnist.load_data()\n",
        "X_train, X_test=X_train/255.0, X_test/255.0"
      ]
    },
    {
      "cell_type": "code",
      "execution_count": null,
      "metadata": {
        "id": "O0rwimSiHGOy"
      },
      "outputs": [],
      "source": [
        "\n",
        "model = tf.keras.models.Sequential([\n",
        "    tf.keras.layers.Flatten(input_shape=(28, 28)),\n",
        "    tf.keras.layers.Dense(20, activation='relu'),\n",
        "    tf.keras.layers.Dense(20, activation='relu'),\n",
        "    tf.keras.layers.Dense(10)\n",
        "])\n",
        "\n",
        "model.compile(optimizer=tf.keras.optimizers.SGD(learning_rate=0.01, momentum=0.9, nesterov=True),\n",
        "              loss=tf.keras.losses.SparseCategoricalCrossentropy(from_logits=True),\n",
        "              metrics=['accuracy'])\n"
      ]
    },
    {
      "cell_type": "markdown",
      "metadata": {
        "id": "q8DccB_cHIdl"
      },
      "source": []
    },
    {
      "cell_type": "code",
      "execution_count": null,
      "metadata": {
        "id": "V3PhXHm6HGo3"
      },
      "outputs": [],
      "source": [
        "lossfn=tf.keras.losses.SparseCategoricalCrossentropy(from_logits=True)"
      ]
    },
    {
      "cell_type": "markdown",
      "metadata": {
        "id": "dkknPih5Raj6"
      },
      "source": [
        "Compile"
      ]
    },
    {
      "cell_type": "markdown",
      "metadata": {
        "id": "i-rcYFwlUM38"
      },
      "source": [
        "architecture\n"
      ]
    },
    {
      "cell_type": "code",
      "execution_count": null,
      "metadata": {
        "colab": {
          "base_uri": "https://localhost:8080/"
        },
        "id": "MKQ_GMCMUQWx",
        "outputId": "56099d6d-de95-44eb-b141-2d7a6c94149d"
      },
      "outputs": [
        {
          "name": "stdout",
          "output_type": "stream",
          "text": [
            "Model: \"sequential\"\n",
            "_________________________________________________________________\n",
            " Layer (type)                Output Shape              Param #   \n",
            "=================================================================\n",
            " flatten (Flatten)           (None, 784)               0         \n",
            "                                                                 \n",
            " dense (Dense)               (None, 20)                15700     \n",
            "                                                                 \n",
            " dense_1 (Dense)             (None, 20)                420       \n",
            "                                                                 \n",
            " dense_2 (Dense)             (None, 10)                210       \n",
            "                                                                 \n",
            "=================================================================\n",
            "Total params: 16330 (63.79 KB)\n",
            "Trainable params: 16330 (63.79 KB)\n",
            "Non-trainable params: 0 (0.00 Byte)\n",
            "_________________________________________________________________\n"
          ]
        }
      ],
      "source": [
        "model.summary()"
      ]
    },
    {
      "cell_type": "markdown",
      "metadata": {
        "id": "n6c0OAWKRp0Q"
      },
      "source": [
        "TRAIN MODEL"
      ]
    },
    {
      "cell_type": "code",
      "execution_count": null,
      "metadata": {
        "colab": {
          "base_uri": "https://localhost:8080/"
        },
        "id": "lunqWzqDRsBh",
        "outputId": "f50dcf8a-ff67-4106-e85d-9ca113e68efb"
      },
      "outputs": [
        {
          "name": "stdout",
          "output_type": "stream",
          "text": [
            "Epoch 1/15\n",
            "1875/1875 [==============================] - 4s 2ms/step - loss: 0.3761 - accuracy: 0.8889\n",
            "Epoch 2/15\n",
            "1875/1875 [==============================] - 4s 2ms/step - loss: 0.2045 - accuracy: 0.9401\n",
            "Epoch 3/15\n",
            "1875/1875 [==============================] - 3s 2ms/step - loss: 0.1692 - accuracy: 0.9496\n",
            "Epoch 4/15\n",
            "1875/1875 [==============================] - 3s 2ms/step - loss: 0.1517 - accuracy: 0.9547\n",
            "Epoch 5/15\n",
            "1875/1875 [==============================] - 3s 2ms/step - loss: 0.1365 - accuracy: 0.9591\n",
            "Epoch 6/15\n",
            "1875/1875 [==============================] - 4s 2ms/step - loss: 0.1294 - accuracy: 0.9613\n",
            "Epoch 7/15\n",
            "1875/1875 [==============================] - 3s 2ms/step - loss: 0.1223 - accuracy: 0.9628\n",
            "Epoch 8/15\n",
            "1875/1875 [==============================] - 3s 2ms/step - loss: 0.1156 - accuracy: 0.9647\n",
            "Epoch 9/15\n",
            "1875/1875 [==============================] - 3s 2ms/step - loss: 0.1093 - accuracy: 0.9666\n",
            "Epoch 10/15\n",
            "1875/1875 [==============================] - 4s 2ms/step - loss: 0.1069 - accuracy: 0.9675\n",
            "Epoch 11/15\n",
            "1875/1875 [==============================] - 3s 2ms/step - loss: 0.1007 - accuracy: 0.9689\n",
            "Epoch 12/15\n",
            "1875/1875 [==============================] - 3s 2ms/step - loss: 0.0977 - accuracy: 0.9695\n",
            "Epoch 13/15\n",
            "1875/1875 [==============================] - 4s 2ms/step - loss: 0.0949 - accuracy: 0.9705\n",
            "Epoch 14/15\n",
            "1875/1875 [==============================] - 3s 2ms/step - loss: 0.0929 - accuracy: 0.9714\n",
            "Epoch 15/15\n",
            "1875/1875 [==============================] - 3s 2ms/step - loss: 0.0910 - accuracy: 0.9713\n"
          ]
        },
        {
          "data": {
            "text/plain": [
              "<keras.src.callbacks.History at 0x77fdd42372b0>"
            ]
          },
          "execution_count": 10,
          "metadata": {},
          "output_type": "execute_result"
        }
      ],
      "source": [
        "model.fit(X_train, Y_train, epochs=15)"
      ]
    },
    {
      "cell_type": "markdown",
      "metadata": {
        "id": "dJkNBuI0UldT"
      },
      "source": [
        "**weights**\n"
      ]
    },
    {
      "cell_type": "code",
      "execution_count": null,
      "metadata": {
        "colab": {
          "background_save": true
        },
        "id": "SY7nyV9UUnoE"
      },
      "outputs": [],
      "source": [
        "import json\n",
        "import struct\n",
        "\n",
        "weightList = []\n",
        "biasList = []\n",
        "\n",
        "for layer in model.layers:\n",
        "    weights = layer.get_weights()\n",
        "    if weights:  # Check if the layer has weights\n",
        "        layer_weights = weights[0].T  # Transpose the weights\n",
        "        # Convert weights to 32-bit hex\n",
        "        hex_weights = [format(struct.unpack('!I', struct.pack('!f', w))[0], '08x') for w in layer_weights.flatten()]\n",
        "        weightList.append(hex_weights)\n",
        "\n",
        "        if len(weights) > 1:\n",
        "            # Convert biases to 32-bit hex\n",
        "            layer_biases = [format(struct.unpack('!I', struct.pack('!f', b))[0], '08x') for b in weights[1]]\n",
        "            biasList.append(layer_biases)\n",
        "\n",
        "data = {\"weights\": weightList, \"biases\": biasList}\n",
        "\n",
        "with open('weightsandbiases.txt', 'w') as f:\n",
        "    json.dump(data, f, indent=4)\n"
      ]
    },
    {
      "cell_type": "markdown",
      "metadata": {
        "id": "K7xFoUsdVWvn"
      },
      "source": []
    },
    {
      "cell_type": "markdown",
      "metadata": {
        "id": "lgd67cPmVTaz"
      },
      "source": []
    },
    {
      "cell_type": "markdown",
      "metadata": {
        "id": "dVksgTb_VSjP"
      },
      "source": []
    },
    {
      "cell_type": "markdown",
      "metadata": {
        "id": "-YjbsAxlVR42"
      },
      "source": []
    },
    {
      "cell_type": "markdown",
      "metadata": {
        "id": "h11zJ-W2SMu5"
      },
      "source": [
        "evaluate"
      ]
    },
    {
      "cell_type": "code",
      "execution_count": null,
      "metadata": {
        "colab": {
          "base_uri": "https://localhost:8080/"
        },
        "id": "qap3TrseSOs_",
        "outputId": "b2f63cdb-cfd2-47d7-f6da-7d838cf0e6ba"
      },
      "outputs": [
        {
          "name": "stdout",
          "output_type": "stream",
          "text": [
            "313/313 - 0s - loss: 0.1633 - accuracy: 0.9547 - 475ms/epoch - 2ms/step\n"
          ]
        },
        {
          "data": {
            "text/plain": [
              "[0.16329945623874664, 0.9546999931335449]"
            ]
          },
          "execution_count": 21,
          "metadata": {},
          "output_type": "execute_result"
        }
      ],
      "source": [
        "model.evaluate(X_test, Y_test, verbose=2)"
      ]
    },
    {
      "cell_type": "code",
      "execution_count": null,
      "metadata": {
        "colab": {
          "base_uri": "https://localhost:8080/",
          "height": 533
        },
        "id": "ERekTlqvbsI2",
        "outputId": "3fef53a1-7aa4-4603-d23d-9def605379c8"
      },
      "outputs": [
        {
          "data": {
            "image/png": "[encoded data removed]",
            "text/plain": [
              "<IPython.core.display.Image object>"
            ]
          },
          "execution_count": 22,
          "metadata": {},
          "output_type": "execute_result"
        }
      ],
      "source": [
        "plot_model(model, to_file='model_diagram.png',show_shapes=True, show_layer_names=True)"
      ]
    },
    {
      "cell_type": "markdown",
      "metadata": {
        "id": "SAtKj277Gdtl"
      },
      "source": [
        "# New Section"
      ]
    },
    {
      "cell_type": "code",
      "execution_count": null,
      "metadata": {
        "colab": {
          "background_save": true
        },
        "id": "nPV7MXxs0fzP"
      },
      "outputs": [],
      "source": [
        "import os\n",
        "import json\n",
        "\n",
        "# Define parameters\n",
        "inputFile = \"weightsandbiases.txt\"\n",
        "outputPath = \"./content/binary/\"\n",
        "\n",
        "# Ensure the output directory exists\n",
        "if not os.path.exists(outputPath):\n",
        "    os.makedirs(outputPath)\n",
        "    print(f\"Output directory created at {outputPath}\")\n",
        "\n",
        "def writeHexToFiles(inputFile):\n",
        "    # Load the data from the input file\n",
        "    with open(inputFile, \"r\") as file:\n",
        "        data = json.load(file)\n",
        "\n",
        "    # Process and write weights for each layer\n",
        "    for layer_index, layer_weights in enumerate(data['weights'], start=1):\n",
        "        filename = f\"w_layer{layer_index}.txt\"\n",
        "        with open(os.path.join(outputPath, filename), 'w') as f:\n",
        "            for neuron_weights in layer_weights:\n",
        "                # Join all weights for a neuron into a single line\n",
        "                weights_line = ' '.join(neuron_weights)\n",
        "                f.write(f\"{weights_line}\\n\")\n",
        "        print(f\"Weights for Layer {layer_index} written to {filename}\")\n",
        "\n",
        "    # Process and write biases for each layer\n",
        "    for layer_index, layer_biases in enumerate(data['biases'], start=1):\n",
        "        filename = f\"b_layer{layer_index}.txt\"\n",
        "        with open(os.path.join(outputPath, filename), 'w') as f:\n",
        "            # Since each neuron has a single bias, each bias is its own line\n",
        "            for bias in layer_biases:\n",
        "                f.write(f\"{bias}\\n\")\n",
        "        print(f\"Biases for Layer {layer_index} written to {filename}\")\n",
        "\n",
        "if __name__ == \"__main__\":\n",
        "    writeHexToFiles(inputFile)\n"
      ]
    }
  ],
  "metadata": {
    "colab": {
      "provenance": []
    },
    "kernelspec": {
      "display_name": "Python 3",
      "name": "python3"
    },
    "language_info": {
      "name": "python"
    }
  },
  "nbformat": 4,
  "nbformat_minor": 0
}